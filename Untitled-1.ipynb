{
 "cells": [
  {
   "cell_type": "code",
   "execution_count": 1,
   "metadata": {},
   "outputs": [
    {
     "name": "stdout",
     "output_type": "stream",
     "text": [
      "tensor(0.5000)\n"
     ]
    }
   ],
   "source": [
    "import torch\n",
    "from torchmetrics.classification import BinaryAccuracy, MulticlassAccuracy\n",
    "def bin_eval(y_hat,y):\n",
    "    a = BinaryAccuracy()\n",
    "    a.update(y_hat,y)\n",
    "    return a.compute()\n",
    "y = torch.tensor([[0],[1],[0],[1]])\n",
    "y_hat = torch.tensor([[-1],[-1],[1],[1]]).float()\n",
    "print(bin_eval(y_hat,y))\n"
   ]
  },
  {
   "cell_type": "code",
   "execution_count": 2,
   "metadata": {},
   "outputs": [
    {
     "name": "stdout",
     "output_type": "stream",
     "text": [
      "0.3333333333333333\n",
      "tensor(0.3333)\n"
     ]
    }
   ],
   "source": [
    "def mult_eval(y_hat,y):\n",
    "    a = MulticlassAccuracy(y_hat.size(1),average='micro')\n",
    "    a.update(y_hat,y)\n",
    "    return a.compute()\n",
    "from sklearn import metrics\n",
    "y = torch.tensor([0,0,0])\n",
    "y_hat = torch.tensor([\n",
    "    [0,3,5],[0,5,3],[6,2,1]]).float()\n",
    "print(metrics.accuracy_score(y,y_hat.argmax(1)))\n",
    "print(mult_eval(y_hat,y))"
   ]
  },
  {
   "cell_type": "code",
   "execution_count": 16,
   "metadata": {},
   "outputs": [
    {
     "name": "stderr",
     "output_type": "stream",
     "text": [
      "Processing...\n"
     ]
    },
    {
     "ename": "KeyboardInterrupt",
     "evalue": "",
     "output_type": "error",
     "traceback": [
      "\u001b[0;31m---------------------------------------------------------------------------\u001b[0m",
      "\u001b[0;31mKeyboardInterrupt\u001b[0m                         Traceback (most recent call last)",
      "\u001b[1;32mUntitled-1.ipynb Cell 3\u001b[0m line \u001b[0;36m3\n\u001b[1;32m      <a href='vscode-notebook-cell:Untitled-1.ipynb?jupyter-notebook#W5sdW50aXRsZWQ%3D?line=0'>1</a>\u001b[0m \u001b[39mfrom\u001b[39;00m \u001b[39mtorch_geometric\u001b[39;00m\u001b[39m.\u001b[39;00m\u001b[39mdatasets\u001b[39;00m \u001b[39mimport\u001b[39;00m TUDataset\n\u001b[1;32m      <a href='vscode-notebook-cell:Untitled-1.ipynb?jupyter-notebook#W5sdW50aXRsZWQ%3D?line=1'>2</a>\u001b[0m \u001b[39mfrom\u001b[39;00m \u001b[39mtorch_geometric\u001b[39;00m\u001b[39m.\u001b[39;00m\u001b[39mutils\u001b[39;00m \u001b[39mimport\u001b[39;00m degree\n\u001b[0;32m----> <a href='vscode-notebook-cell:Untitled-1.ipynb?jupyter-notebook#W5sdW50aXRsZWQ%3D?line=2'>3</a>\u001b[0m ds \u001b[39m=\u001b[39m TUDataset(\u001b[39m'\u001b[39;49m\u001b[39mdata2\u001b[39;49m\u001b[39m'\u001b[39;49m,\u001b[39m'\u001b[39;49m\u001b[39mCOLLAB\u001b[39;49m\u001b[39m'\u001b[39;49m)\n\u001b[1;32m      <a href='vscode-notebook-cell:Untitled-1.ipynb?jupyter-notebook#W5sdW50aXRsZWQ%3D?line=3'>4</a>\u001b[0m \u001b[39mprint\u001b[39m(degree(ds\u001b[39m.\u001b[39medge_index[\u001b[39m0\u001b[39m])\u001b[39m.\u001b[39mmax())\n\u001b[1;32m      <a href='vscode-notebook-cell:Untitled-1.ipynb?jupyter-notebook#W5sdW50aXRsZWQ%3D?line=4'>5</a>\u001b[0m \u001b[39mprint\u001b[39m(degree(ds\u001b[39m.\u001b[39medge_index[\u001b[39m1\u001b[39m])\u001b[39m.\u001b[39mmax())\n",
      "File \u001b[0;32m~/.local/lib/python3.10/site-packages/torch_geometric/datasets/tu_dataset.py:125\u001b[0m, in \u001b[0;36mTUDataset.__init__\u001b[0;34m(self, root, name, transform, pre_transform, pre_filter, use_node_attr, use_edge_attr, cleaned)\u001b[0m\n\u001b[1;32m    123\u001b[0m \u001b[39mself\u001b[39m\u001b[39m.\u001b[39mname \u001b[39m=\u001b[39m name\n\u001b[1;32m    124\u001b[0m \u001b[39mself\u001b[39m\u001b[39m.\u001b[39mcleaned \u001b[39m=\u001b[39m cleaned\n\u001b[0;32m--> 125\u001b[0m \u001b[39msuper\u001b[39;49m()\u001b[39m.\u001b[39;49m\u001b[39m__init__\u001b[39;49m(root, transform, pre_transform, pre_filter)\n\u001b[1;32m    127\u001b[0m out \u001b[39m=\u001b[39m torch\u001b[39m.\u001b[39mload(\u001b[39mself\u001b[39m\u001b[39m.\u001b[39mprocessed_paths[\u001b[39m0\u001b[39m])\n\u001b[1;32m    128\u001b[0m \u001b[39mif\u001b[39;00m \u001b[39mnot\u001b[39;00m \u001b[39misinstance\u001b[39m(out, \u001b[39mtuple\u001b[39m) \u001b[39mor\u001b[39;00m \u001b[39mlen\u001b[39m(out) \u001b[39m!=\u001b[39m \u001b[39m3\u001b[39m:\n",
      "File \u001b[0;32m~/.local/lib/python3.10/site-packages/torch_geometric/data/in_memory_dataset.py:57\u001b[0m, in \u001b[0;36mInMemoryDataset.__init__\u001b[0;34m(self, root, transform, pre_transform, pre_filter, log)\u001b[0m\n\u001b[1;32m     49\u001b[0m \u001b[39mdef\u001b[39;00m \u001b[39m__init__\u001b[39m(\n\u001b[1;32m     50\u001b[0m     \u001b[39mself\u001b[39m,\n\u001b[1;32m     51\u001b[0m     root: Optional[\u001b[39mstr\u001b[39m] \u001b[39m=\u001b[39m \u001b[39mNone\u001b[39;00m,\n\u001b[0;32m   (...)\u001b[0m\n\u001b[1;32m     55\u001b[0m     log: \u001b[39mbool\u001b[39m \u001b[39m=\u001b[39m \u001b[39mTrue\u001b[39;00m,\n\u001b[1;32m     56\u001b[0m ):\n\u001b[0;32m---> 57\u001b[0m     \u001b[39msuper\u001b[39;49m()\u001b[39m.\u001b[39;49m\u001b[39m__init__\u001b[39;49m(root, transform, pre_transform, pre_filter, log)\n\u001b[1;32m     58\u001b[0m     \u001b[39mself\u001b[39m\u001b[39m.\u001b[39m_data \u001b[39m=\u001b[39m \u001b[39mNone\u001b[39;00m\n\u001b[1;32m     59\u001b[0m     \u001b[39mself\u001b[39m\u001b[39m.\u001b[39mslices \u001b[39m=\u001b[39m \u001b[39mNone\u001b[39;00m\n",
      "File \u001b[0;32m~/.local/lib/python3.10/site-packages/torch_geometric/data/dataset.py:97\u001b[0m, in \u001b[0;36mDataset.__init__\u001b[0;34m(self, root, transform, pre_transform, pre_filter, log)\u001b[0m\n\u001b[1;32m     94\u001b[0m     \u001b[39mself\u001b[39m\u001b[39m.\u001b[39m_download()\n\u001b[1;32m     96\u001b[0m \u001b[39mif\u001b[39;00m \u001b[39mself\u001b[39m\u001b[39m.\u001b[39mhas_process:\n\u001b[0;32m---> 97\u001b[0m     \u001b[39mself\u001b[39;49m\u001b[39m.\u001b[39;49m_process()\n",
      "File \u001b[0;32m~/.local/lib/python3.10/site-packages/torch_geometric/data/dataset.py:230\u001b[0m, in \u001b[0;36mDataset._process\u001b[0;34m(self)\u001b[0m\n\u001b[1;32m    227\u001b[0m     \u001b[39mprint\u001b[39m(\u001b[39m'\u001b[39m\u001b[39mProcessing...\u001b[39m\u001b[39m'\u001b[39m, file\u001b[39m=\u001b[39msys\u001b[39m.\u001b[39mstderr)\n\u001b[1;32m    229\u001b[0m makedirs(\u001b[39mself\u001b[39m\u001b[39m.\u001b[39mprocessed_dir)\n\u001b[0;32m--> 230\u001b[0m \u001b[39mself\u001b[39;49m\u001b[39m.\u001b[39;49mprocess()\n\u001b[1;32m    232\u001b[0m path \u001b[39m=\u001b[39m osp\u001b[39m.\u001b[39mjoin(\u001b[39mself\u001b[39m\u001b[39m.\u001b[39mprocessed_dir, \u001b[39m'\u001b[39m\u001b[39mpre_transform.pt\u001b[39m\u001b[39m'\u001b[39m)\n\u001b[1;32m    233\u001b[0m torch\u001b[39m.\u001b[39msave(_repr(\u001b[39mself\u001b[39m\u001b[39m.\u001b[39mpre_transform), path)\n",
      "File \u001b[0;32m~/.local/lib/python3.10/site-packages/torch_geometric/datasets/tu_dataset.py:188\u001b[0m, in \u001b[0;36mTUDataset.process\u001b[0;34m(self)\u001b[0m\n\u001b[1;32m    187\u001b[0m \u001b[39mdef\u001b[39;00m \u001b[39mprocess\u001b[39m(\u001b[39mself\u001b[39m):\n\u001b[0;32m--> 188\u001b[0m     \u001b[39mself\u001b[39m\u001b[39m.\u001b[39mdata, \u001b[39mself\u001b[39m\u001b[39m.\u001b[39mslices, sizes \u001b[39m=\u001b[39m read_tu_data(\u001b[39mself\u001b[39;49m\u001b[39m.\u001b[39;49mraw_dir, \u001b[39mself\u001b[39;49m\u001b[39m.\u001b[39;49mname)\n\u001b[1;32m    190\u001b[0m     \u001b[39mif\u001b[39;00m \u001b[39mself\u001b[39m\u001b[39m.\u001b[39mpre_filter \u001b[39mis\u001b[39;00m \u001b[39mnot\u001b[39;00m \u001b[39mNone\u001b[39;00m \u001b[39mor\u001b[39;00m \u001b[39mself\u001b[39m\u001b[39m.\u001b[39mpre_transform \u001b[39mis\u001b[39;00m \u001b[39mnot\u001b[39;00m \u001b[39mNone\u001b[39;00m:\n\u001b[1;32m    191\u001b[0m         data_list \u001b[39m=\u001b[39m [\u001b[39mself\u001b[39m\u001b[39m.\u001b[39mget(idx) \u001b[39mfor\u001b[39;00m idx \u001b[39min\u001b[39;00m \u001b[39mrange\u001b[39m(\u001b[39mlen\u001b[39m(\u001b[39mself\u001b[39m))]\n",
      "File \u001b[0;32m~/.local/lib/python3.10/site-packages/torch_geometric/io/tu.py:22\u001b[0m, in \u001b[0;36mread_tu_data\u001b[0;34m(folder, prefix)\u001b[0m\n\u001b[1;32m     19\u001b[0m files \u001b[39m=\u001b[39m glob\u001b[39m.\u001b[39mglob(osp\u001b[39m.\u001b[39mjoin(folder, \u001b[39mf\u001b[39m\u001b[39m'\u001b[39m\u001b[39m{\u001b[39;00mprefix\u001b[39m}\u001b[39;00m\u001b[39m_*.txt\u001b[39m\u001b[39m'\u001b[39m))\n\u001b[1;32m     20\u001b[0m names \u001b[39m=\u001b[39m [f\u001b[39m.\u001b[39msplit(os\u001b[39m.\u001b[39msep)[\u001b[39m-\u001b[39m\u001b[39m1\u001b[39m][\u001b[39mlen\u001b[39m(prefix) \u001b[39m+\u001b[39m \u001b[39m1\u001b[39m:\u001b[39m-\u001b[39m\u001b[39m4\u001b[39m] \u001b[39mfor\u001b[39;00m f \u001b[39min\u001b[39;00m files]\n\u001b[0;32m---> 22\u001b[0m edge_index \u001b[39m=\u001b[39m read_file(folder, prefix, \u001b[39m'\u001b[39;49m\u001b[39mA\u001b[39;49m\u001b[39m'\u001b[39;49m, torch\u001b[39m.\u001b[39;49mlong)\u001b[39m.\u001b[39mt() \u001b[39m-\u001b[39m \u001b[39m1\u001b[39m\n\u001b[1;32m     23\u001b[0m batch \u001b[39m=\u001b[39m read_file(folder, prefix, \u001b[39m'\u001b[39m\u001b[39mgraph_indicator\u001b[39m\u001b[39m'\u001b[39m, torch\u001b[39m.\u001b[39mlong) \u001b[39m-\u001b[39m \u001b[39m1\u001b[39m\n\u001b[1;32m     25\u001b[0m node_attributes \u001b[39m=\u001b[39m torch\u001b[39m.\u001b[39mempty((batch\u001b[39m.\u001b[39msize(\u001b[39m0\u001b[39m), \u001b[39m0\u001b[39m))\n",
      "File \u001b[0;32m~/.local/lib/python3.10/site-packages/torch_geometric/io/tu.py:92\u001b[0m, in \u001b[0;36mread_file\u001b[0;34m(folder, prefix, name, dtype)\u001b[0m\n\u001b[1;32m     90\u001b[0m \u001b[39mdef\u001b[39;00m \u001b[39mread_file\u001b[39m(folder, prefix, name, dtype\u001b[39m=\u001b[39m\u001b[39mNone\u001b[39;00m):\n\u001b[1;32m     91\u001b[0m     path \u001b[39m=\u001b[39m osp\u001b[39m.\u001b[39mjoin(folder, \u001b[39mf\u001b[39m\u001b[39m'\u001b[39m\u001b[39m{\u001b[39;00mprefix\u001b[39m}\u001b[39;00m\u001b[39m_\u001b[39m\u001b[39m{\u001b[39;00mname\u001b[39m}\u001b[39;00m\u001b[39m.txt\u001b[39m\u001b[39m'\u001b[39m)\n\u001b[0;32m---> 92\u001b[0m     \u001b[39mreturn\u001b[39;00m read_txt_array(path, sep\u001b[39m=\u001b[39;49m\u001b[39m'\u001b[39;49m\u001b[39m,\u001b[39;49m\u001b[39m'\u001b[39;49m, dtype\u001b[39m=\u001b[39;49mdtype)\n",
      "File \u001b[0;32m~/.local/lib/python3.10/site-packages/torch_geometric/io/txt_array.py:17\u001b[0m, in \u001b[0;36mread_txt_array\u001b[0;34m(path, sep, start, end, dtype, device)\u001b[0m\n\u001b[1;32m     15\u001b[0m \u001b[39mwith\u001b[39;00m \u001b[39mopen\u001b[39m(path, \u001b[39m'\u001b[39m\u001b[39mr\u001b[39m\u001b[39m'\u001b[39m) \u001b[39mas\u001b[39;00m f:\n\u001b[1;32m     16\u001b[0m     src \u001b[39m=\u001b[39m f\u001b[39m.\u001b[39mread()\u001b[39m.\u001b[39msplit(\u001b[39m'\u001b[39m\u001b[39m\\n\u001b[39;00m\u001b[39m'\u001b[39m)[:\u001b[39m-\u001b[39m\u001b[39m1\u001b[39m]\n\u001b[0;32m---> 17\u001b[0m \u001b[39mreturn\u001b[39;00m parse_txt_array(src, sep, start, end, dtype, device)\n",
      "File \u001b[0;32m~/.local/lib/python3.10/site-packages/torch_geometric/io/txt_array.py:9\u001b[0m, in \u001b[0;36mparse_txt_array\u001b[0;34m(src, sep, start, end, dtype, device)\u001b[0m\n\u001b[1;32m      6\u001b[0m \u001b[39mif\u001b[39;00m torch\u001b[39m.\u001b[39mis_floating_point(torch\u001b[39m.\u001b[39mempty(\u001b[39m0\u001b[39m, dtype\u001b[39m=\u001b[39mdtype)):\n\u001b[1;32m      7\u001b[0m     to_number \u001b[39m=\u001b[39m \u001b[39mfloat\u001b[39m\n\u001b[0;32m----> 9\u001b[0m src \u001b[39m=\u001b[39m [[to_number(x) \u001b[39mfor\u001b[39;00m x \u001b[39min\u001b[39;00m line\u001b[39m.\u001b[39msplit(sep)[start:end]] \u001b[39mfor\u001b[39;00m line \u001b[39min\u001b[39;00m src]\n\u001b[1;32m     10\u001b[0m src \u001b[39m=\u001b[39m torch\u001b[39m.\u001b[39mtensor(src)\u001b[39m.\u001b[39mto(dtype)\u001b[39m.\u001b[39msqueeze()\n\u001b[1;32m     11\u001b[0m \u001b[39mreturn\u001b[39;00m src\n",
      "File \u001b[0;32m~/.local/lib/python3.10/site-packages/torch_geometric/io/txt_array.py:9\u001b[0m, in \u001b[0;36m<listcomp>\u001b[0;34m(.0)\u001b[0m\n\u001b[1;32m      6\u001b[0m \u001b[39mif\u001b[39;00m torch\u001b[39m.\u001b[39mis_floating_point(torch\u001b[39m.\u001b[39mempty(\u001b[39m0\u001b[39m, dtype\u001b[39m=\u001b[39mdtype)):\n\u001b[1;32m      7\u001b[0m     to_number \u001b[39m=\u001b[39m \u001b[39mfloat\u001b[39m\n\u001b[0;32m----> 9\u001b[0m src \u001b[39m=\u001b[39m [[to_number(x) \u001b[39mfor\u001b[39;00m x \u001b[39min\u001b[39;00m line\u001b[39m.\u001b[39msplit(sep)[start:end]] \u001b[39mfor\u001b[39;00m line \u001b[39min\u001b[39;00m src]\n\u001b[1;32m     10\u001b[0m src \u001b[39m=\u001b[39m torch\u001b[39m.\u001b[39mtensor(src)\u001b[39m.\u001b[39mto(dtype)\u001b[39m.\u001b[39msqueeze()\n\u001b[1;32m     11\u001b[0m \u001b[39mreturn\u001b[39;00m src\n",
      "File \u001b[0;32m~/.local/lib/python3.10/site-packages/torch_geometric/io/txt_array.py:9\u001b[0m, in \u001b[0;36m<listcomp>\u001b[0;34m(.0)\u001b[0m\n\u001b[1;32m      6\u001b[0m \u001b[39mif\u001b[39;00m torch\u001b[39m.\u001b[39mis_floating_point(torch\u001b[39m.\u001b[39mempty(\u001b[39m0\u001b[39m, dtype\u001b[39m=\u001b[39mdtype)):\n\u001b[1;32m      7\u001b[0m     to_number \u001b[39m=\u001b[39m \u001b[39mfloat\u001b[39m\n\u001b[0;32m----> 9\u001b[0m src \u001b[39m=\u001b[39m [[to_number(x) \u001b[39mfor\u001b[39;00m x \u001b[39min\u001b[39;00m line\u001b[39m.\u001b[39msplit(sep)[start:end]] \u001b[39mfor\u001b[39;00m line \u001b[39min\u001b[39;00m src]\n\u001b[1;32m     10\u001b[0m src \u001b[39m=\u001b[39m torch\u001b[39m.\u001b[39mtensor(src)\u001b[39m.\u001b[39mto(dtype)\u001b[39m.\u001b[39msqueeze()\n\u001b[1;32m     11\u001b[0m \u001b[39mreturn\u001b[39;00m src\n",
      "\u001b[0;31mKeyboardInterrupt\u001b[0m: "
     ]
    }
   ],
   "source": [
    "from torch_geometric.datasets import TUDataset\n",
    "from torch_geometric.utils import degree\n",
    "ds = TUDataset('data2','COLLAB')\n",
    "print(degree(ds.edge_index[0]).max())\n",
    "print(degree(ds.edge_index[1]).max())"
   ]
  },
  {
   "cell_type": "code",
   "execution_count": null,
   "metadata": {},
   "outputs": [],
   "source": []
  }
 ],
 "metadata": {
  "kernelspec": {
   "display_name": "Python 3",
   "language": "python",
   "name": "python3"
  },
  "language_info": {
   "codemirror_mode": {
    "name": "ipython",
    "version": 3
   },
   "file_extension": ".py",
   "mimetype": "text/x-python",
   "name": "python",
   "nbconvert_exporter": "python",
   "pygments_lexer": "ipython3",
   "version": "3.10.13"
  }
 },
 "nbformat": 4,
 "nbformat_minor": 2
}
