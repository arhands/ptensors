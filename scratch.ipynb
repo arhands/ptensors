{
 "cells": [
  {
   "cell_type": "code",
   "execution_count": 1,
   "metadata": {},
   "outputs": [
    {
     "name": "stderr",
     "output_type": "stream",
     "text": [
      "Downloading https://www.dropbox.com/s/feo9qle74kg48gy/molecules.zip?dl=1\n",
      "Extracting data/ZINC/molecules.zip\n",
      "Downloading https://raw.githubusercontent.com/graphdeeplearning/benchmarking-gnns/master/data/molecules/train.index\n",
      "Downloading https://raw.githubusercontent.com/graphdeeplearning/benchmarking-gnns/master/data/molecules/val.index\n",
      "Downloading https://raw.githubusercontent.com/graphdeeplearning/benchmarking-gnns/master/data/molecules/test.index\n",
      "Processing...\n",
      "Processing train dataset: 100%|██████████| 10000/10000 [00:00<00:00, 23854.72it/s]\n",
      "Processing val dataset: 100%|██████████| 1000/1000 [00:00<00:00, 6639.02it/s]\n",
      "Processing test dataset: 100%|██████████| 1000/1000 [00:00<00:00, 7486.94it/s]\n",
      "Done!\n"
     ]
    }
   ],
   "source": [
    "from torch_geometric.datasets import ZINC\n",
    "ds = ZINC('./data/ZINC',True,'test')"
   ]
  },
  {
   "cell_type": "code",
   "execution_count": 5,
   "metadata": {},
   "outputs": [],
   "source": [
    "graph = ds[0]"
   ]
  },
  {
   "cell_type": "code",
   "execution_count": 10,
   "metadata": {},
   "outputs": [
    {
     "name": "stdout",
     "output_type": "stream",
     "text": [
      "Ptensor0 [0,1]:\n",
      "[ 1 ]\n",
      "\n",
      "Ptensor0 [2,3]:\n",
      "[ 100 ]\n",
      "\n",
      "\n",
      "Ptensor1 [0,1,2,3]:\n",
      "[ 1 ]\n",
      "[ 1 ]\n",
      "[ 100 ]\n",
      "[ 100 ]\n",
      "\n",
      "\n",
      "Ptensor1 [0,1,2]:\n",
      "[ 1 ]\n",
      "[ 1 ]\n",
      "[ 100 ]\n",
      "\n",
      "\n"
     ]
    }
   ],
   "source": [
    "import ptens as p\n",
    "from ptens_base import atomspack\n",
    "import torch\n",
    "a = [[0,1],[2,3]]\n",
    "b = [[0,1,2]]\n",
    "a_to_b = p.graph.overlaps(atomspack(b),atomspack(a))\n",
    "source = p.ptensors0.from_matrix(torch.tensor([[1],[100]]).float(),a)\n",
    "print(source)\n",
    "dest = p.ptensors0.unite1(source,a_to_b)\n",
    "print(dest)\n",
    "dest = p.ptensors0.transfer1(source,b,a_to_b)\n",
    "print(dest)"
   ]
  },
  {
   "cell_type": "code",
   "execution_count": 14,
   "metadata": {},
   "outputs": [
    {
     "name": "stdout",
     "output_type": "stream",
     "text": [
      "Ptensor1 [0,1]:\n",
      "[ 1 ]\n",
      "[ 10 ]\n",
      "\n",
      "Ptensor1 [2,3]:\n",
      "[ 100 ]\n",
      "[ 1000 ]\n",
      "\n",
      "\n",
      "Ptensor1 [0,1,2,3]:\n",
      "[ 11 1 ]\n",
      "[ 11 10 ]\n",
      "[ 1100 100 ]\n",
      "[ 1100 1000 ]\n",
      "\n",
      "\n",
      "Ptensor1 [0,1,2]:\n",
      "[ 11 1 ]\n",
      "[ 11 10 ]\n",
      "[ 100 100 ]\n",
      "\n",
      "\n"
     ]
    }
   ],
   "source": [
    "import ptens as p\n",
    "from ptens_base import atomspack\n",
    "import torch\n",
    "a = [[0,1],[2,3]]\n",
    "b = [[0,1,2]]\n",
    "a_to_b = p.graph.overlaps(atomspack(b),atomspack(a))\n",
    "source = p.ptensors1.from_matrix(torch.tensor([1,10,100,1000]).unsqueeze(-1).float(),a)\n",
    "print(source)\n",
    "dest = p.unite1(source,a_to_b)\n",
    "print(dest)\n",
    "dest = p.transfer1(source,b,a_to_b)\n",
    "print(dest)"
   ]
  }
 ],
 "metadata": {
  "kernelspec": {
   "display_name": "Python 3",
   "language": "python",
   "name": "python3"
  },
  "language_info": {
   "codemirror_mode": {
    "name": "ipython",
    "version": 3
   },
   "file_extension": ".py",
   "mimetype": "text/x-python",
   "name": "python",
   "nbconvert_exporter": "python",
   "pygments_lexer": "ipython3",
   "version": "3.10.6"
  },
  "orig_nbformat": 4
 },
 "nbformat": 4,
 "nbformat_minor": 2
}
